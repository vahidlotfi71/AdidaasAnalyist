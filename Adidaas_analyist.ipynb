{
 "cells": [
  {
   "cell_type": "code",
   "execution_count": 2,
   "metadata": {},
   "outputs": [],
   "source": [
    "import pandas as pd\n",
    "import matplotlib.pyplot as plt \n",
    "import seaborn as sns\n",
    "import warnings "
   ]
  },
  {
   "cell_type": "code",
   "execution_count": 17,
   "metadata": {},
   "outputs": [
    {
     "name": "stdout",
     "output_type": "stream",
     "text": [
      "   Unnamed: 0   Unnamed: 1             Unnamed: 2           Unnamed: 3  \\\n",
      "0         NaN          NaN  Adidas Sales Database                  NaN   \n",
      "1         NaN          NaN                    NaN                  NaN   \n",
      "2         NaN          NaN                    NaN                  NaN   \n",
      "3         NaN     Retailer            Retailer ID         Invoice Date   \n",
      "4         NaN  Foot Locker                1185732  2020-01-01 00:00:00   \n",
      "\n",
      "  Unnamed: 4 Unnamed: 5 Unnamed: 6             Unnamed: 7      Unnamed: 8  \\\n",
      "0        NaN        NaN        NaN                    NaN             NaN   \n",
      "1        NaN        NaN        NaN                    NaN             NaN   \n",
      "2        NaN        NaN        NaN                    NaN             NaN   \n",
      "3     Region      State       City                Product  Price per Unit   \n",
      "4  Northeast   New York   New York  Men's Street Footwear              50   \n",
      "\n",
      "   Unnamed: 9  Unnamed: 10       Unnamed: 11       Unnamed: 12   Unnamed: 13  \n",
      "0         NaN          NaN               NaN               NaN           NaN  \n",
      "1         NaN          NaN               NaN               NaN           NaN  \n",
      "2         NaN          NaN               NaN               NaN           NaN  \n",
      "3  Units Sold  Total Sales  Operating Profit  Operating Margin  Sales Method  \n",
      "4        1200       600000            300000               0.5      In-store  \n"
     ]
    }
   ],
   "source": [
    "file_path = 'Adidas US Sales Datasets.xlsx'\n",
    "df = pd.read_excel(file_path)\n",
    "print(df.head())"
   ]
  },
  {
   "cell_type": "code",
   "execution_count": 18,
   "metadata": {},
   "outputs": [
    {
     "name": "stdout",
     "output_type": "stream",
     "text": [
      "<class 'pandas.core.frame.DataFrame'>\n",
      "RangeIndex: 9652 entries, 0 to 9651\n",
      "Data columns (total 14 columns):\n",
      " #   Column       Non-Null Count  Dtype  \n",
      "---  ------       --------------  -----  \n",
      " 0   Unnamed: 0   0 non-null      float64\n",
      " 1   Unnamed: 1   9649 non-null   object \n",
      " 2   Unnamed: 2   9650 non-null   object \n",
      " 3   Unnamed: 3   9649 non-null   object \n",
      " 4   Unnamed: 4   9649 non-null   object \n",
      " 5   Unnamed: 5   9649 non-null   object \n",
      " 6   Unnamed: 6   9649 non-null   object \n",
      " 7   Unnamed: 7   9649 non-null   object \n",
      " 8   Unnamed: 8   9649 non-null   object \n",
      " 9   Unnamed: 9   9649 non-null   object \n",
      " 10  Unnamed: 10  9649 non-null   object \n",
      " 11  Unnamed: 11  9649 non-null   object \n",
      " 12  Unnamed: 12  9649 non-null   object \n",
      " 13  Unnamed: 13  9649 non-null   object \n",
      "dtypes: float64(1), object(13)\n",
      "memory usage: 1.0+ MB\n",
      "None\n",
      "--------------------------------------------\n",
      "(9652, 14)\n"
     ]
    }
   ],
   "source": [
    "print(df.info())\n",
    "print(22*'--')\n",
    "print(df.shape)"
   ]
  }
 ],
 "metadata": {
  "kernelspec": {
   "display_name": "Python 3",
   "language": "python",
   "name": "python3"
  },
  "language_info": {
   "codemirror_mode": {
    "name": "ipython",
    "version": 3
   },
   "file_extension": ".py",
   "mimetype": "text/x-python",
   "name": "python",
   "nbconvert_exporter": "python",
   "pygments_lexer": "ipython3",
   "version": "3.12.1"
  }
 },
 "nbformat": 4,
 "nbformat_minor": 2
}
